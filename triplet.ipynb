{
 "cells": [
  {
   "cell_type": "code",
   "execution_count": 1,
   "metadata": {},
   "outputs": [],
   "source": [
    "import sys\n",
    "sys.path.append(\"..\")\n",
    "from jobs import siamese_job\n",
    "from input.models.deep_sort_cnn.freeze_model import create_graph as create_deep_sort_cnn_graph"
   ]
  },
  {
   "cell_type": "markdown",
   "metadata": {},
   "source": [
    "### Training"
   ]
  },
  {
   "cell_type": "code",
   "execution_count": 2,
   "metadata": {},
   "outputs": [
    {
     "name": "stdout",
     "output_type": "stream",
     "text": [
      "INFO:tensorflow:Summary name conv2_1/1/Elu:0/activations is illegal; using conv2_1/1/Elu_0/activations instead.\n",
      "INFO:tensorflow:Summary name conv2_3/1/Elu:0/activations is illegal; using conv2_3/1/Elu_0/activations instead.\n",
      "INFO:tensorflow:Summary name conv3_1/1/Elu:0/activations is illegal; using conv3_1/1/Elu_0/activations instead.\n",
      "INFO:tensorflow:Summary name conv3_3/1/Elu:0/activations is illegal; using conv3_3/1/Elu_0/activations instead.\n",
      "INFO:tensorflow:Summary name conv4_1/1/Elu:0/activations is illegal; using conv4_1/1/Elu_0/activations instead.\n",
      "INFO:tensorflow:Summary name conv4_3/1/Elu:0/activations is illegal; using conv4_3/1/Elu_0/activations instead.\n"
     ]
    },
    {
     "name": "stderr",
     "output_type": "stream",
     "text": [
      "100%|██████████| 18/18 [00:01<00:00, 16.64it/s]\n",
      "100%|██████████| 2/2 [00:00<00:00, 15.03it/s]"
     ]
    },
    {
     "name": "stdout",
     "output_type": "stream",
     "text": [
      "Training loss 0.199169\n"
     ]
    },
    {
     "name": "stderr",
     "output_type": "stream",
     "text": [
      "\n",
      " 17%|█▋        | 3/18 [00:00<00:00, 29.75it/s]"
     ]
    },
    {
     "name": "stdout",
     "output_type": "stream",
     "text": [
      "Validation loss 0.2\n"
     ]
    },
    {
     "name": "stderr",
     "output_type": "stream",
     "text": [
      "100%|██████████| 18/18 [00:00<00:00, 21.14it/s]\n",
      "100%|██████████| 2/2 [00:00<00:00, 13.87it/s]"
     ]
    },
    {
     "name": "stdout",
     "output_type": "stream",
     "text": [
      "Training loss 0.200007\n"
     ]
    },
    {
     "name": "stderr",
     "output_type": "stream",
     "text": [
      "\n"
     ]
    },
    {
     "name": "stdout",
     "output_type": "stream",
     "text": [
      "Validation loss 0.2\n"
     ]
    }
   ],
   "source": [
    "siamese_job('../input/mars/bbox_train/', '../input/models/deep_sort_cnn/mars-small128.pb', graph_creator=create_deep_sort_cnn_graph)\n"
   ]
  }
 ],
 "metadata": {
  "kernelspec": {
   "display_name": "Python 3",
   "language": "python",
   "name": "python3"
  },
  "language_info": {
   "codemirror_mode": {
    "name": "ipython",
    "version": 3
   },
   "file_extension": ".py",
   "mimetype": "text/x-python",
   "name": "python",
   "nbconvert_exporter": "python",
   "pygments_lexer": "ipython3",
   "version": "3.6.8"
  }
 },
 "nbformat": 4,
 "nbformat_minor": 2
}
