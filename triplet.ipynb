{
 "cells": [
  {
   "cell_type": "code",
   "execution_count": null,
   "metadata": {},
   "outputs": [],
   "source": [
    "import sys\n",
    "sys.path.append(\"..\")\n",
    "from jobs import siamese_job\n",
    "from input.models.deep_sort_cnn.freeze_model import create_graph as create_deep_sort_cnn_graph"
   ]
  },
  {
   "cell_type": "markdown",
   "metadata": {},
   "source": [
    "### Training"
   ]
  },
  {
   "cell_type": "code",
   "execution_count": null,
   "metadata": {},
   "outputs": [],
   "source": [
    "siamese_job(\n",
    "    source_path='../input/mars/bbox_train/', \n",
    "    model_path='../input/models/deep_sort_cnn/mars-small128.pb', \n",
    "    graph_creator=create_deep_sort_cnn_graph,\n",
    "    batch_size=30,\n",
    "    num_iter=100,\n",
    "    num_per_class=4,\n",
    "    margin=0.2,\n",
    "    lr=1e-3,\n",
    ")\n"
   ]
  }
 ],
 "metadata": {
  "kernelspec": {
   "display_name": "Python 3",
   "language": "python",
   "name": "python3"
  },
  "language_info": {
   "codemirror_mode": {
    "name": "ipython",
    "version": 3
   },
   "file_extension": ".py",
   "mimetype": "text/x-python",
   "name": "python",
   "nbconvert_exporter": "python",
   "pygments_lexer": "ipython3",
   "version": "3.6.8"
  }
 },
 "nbformat": 4,
 "nbformat_minor": 2
}
