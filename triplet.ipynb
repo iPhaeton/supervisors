{
 "cells": [
  {
   "cell_type": "markdown",
   "metadata": {},
   "source": [
    "## Triplet loss numpy"
   ]
  },
  {
   "cell_type": "code",
   "execution_count": 24,
   "metadata": {},
   "outputs": [],
   "source": [
    "import numpy as np\n",
    "\n",
    "logits = np.random.randn(4, 3)\n",
    "labels = np.concatenate([np.zeros([2, 1]), np.ones([2, 1])], axis=0)\n",
    "logits_norm = logits / np.linalg.norm(logits)"
   ]
  },
  {
   "cell_type": "code",
   "execution_count": 41,
   "metadata": {},
   "outputs": [
    {
     "name": "stdout",
     "output_type": "stream",
     "text": [
      "[[ 1.12180787 -1.11408089 -1.35190712]\n",
      " [ 0.64929267  0.53293354 -0.70270401]\n",
      " [-0.08280154 -0.23974176  0.30269162]\n",
      " [ 0.32925159  0.60438217  1.43597645]]\n",
      "[[ 0.39131491 -0.38861954 -0.47157934]\n",
      " [ 0.22648968  0.18590067 -0.2451209 ]\n",
      " [-0.02888327 -0.08362798  0.10558648]\n",
      " [ 0.11485127  0.21082376  0.50090485]] 2\n",
      "[[ 0.]\n",
      " [ 0.]\n",
      " [ 1.]\n",
      " [ 1.]]\n"
     ]
    }
   ],
   "source": [
    "print(logits)\n",
    "print(logits_norm, 2)\n",
    "print(labels)"
   ]
  },
  {
   "cell_type": "code",
   "execution_count": 116,
   "metadata": {},
   "outputs": [],
   "source": [
    "margin=0.5"
   ]
  },
  {
   "cell_type": "markdown",
   "metadata": {},
   "source": [
    "### tensorflow"
   ]
  },
  {
   "cell_type": "code",
   "execution_count": 83,
   "metadata": {},
   "outputs": [],
   "source": [
    "def pairwise_distance(logits):\n",
    "    pairwise_distances_squared = np.add(\n",
    "        np.sum(np.square(logits), axis=1, keepdims=True),\n",
    "        np.sum(np.square(logits.T), axis=0, keepdims=True),\n",
    "    ) - 2. * np.dot(logits, logits.T)\n",
    "\n",
    "    error_mask = np.less_equal(pairwise_distances_squared, 0.0)\n",
    "    pairwise_distances = np.multiply(pairwise_distances_squared, np.logical_not(error_mask).astype(float))\n",
    "    \n",
    "    num_data = logits.shape[0]\n",
    "    mask_offdiagonals = np.ones_like(pairwise_distances) - np.diag(np.ones([num_data]))\n",
    "    pairwise_distances = np.multiply(pairwise_distances, mask_offdiagonals)\n",
    "    return pairwise_distances\n",
    "\n",
    "def masked_minimum(data, mask):\n",
    "    axis_maximums = np.max(data, axis=1, keepdims=True)\n",
    "    return np.min(np.multiply(data - axis_maximums, mask), axis=1, keepdims=True) + axis_maximums\n",
    "\n",
    "def masked_maximum(data, mask):\n",
    "    axis_minimums = np.min(data, axis=1, keepdims=True)\n",
    "    return np.max(data - axis_minimums, axis=1, keepdims=True)"
   ]
  },
  {
   "cell_type": "code",
   "execution_count": 121,
   "metadata": {},
   "outputs": [],
   "source": [
    "pdist_matrix = pairwise_distance(logits)\n",
    "adjacency = np.equal(labels, labels.T)\n",
    "adjacency_not = np.logical_not(adjacency)\n",
    "\n",
    "batch_size = logits.shape[0]\n",
    "\n",
    "pdist_matrix_tile = np.tile(pdist_matrix, [batch_size, 1])\n",
    "\n",
    "mask = np.logical_and(\n",
    "    np.tile(adjacency_not, [batch_size, 1]),\n",
    "    np.greater(pdist_matrix_tile, pdist_matrix.T.reshape([-1,1])),\n",
    ")\n",
    "\n",
    "mask_final = np.greater(np.sum(mask.astype(float), axis=1, keepdims=True), 0.0).reshape([batch_size, batch_size])\n",
    "mask_final = mask_final.T\n",
    "\n",
    "mask = mask.astype(float)\n",
    "adjacency_not = adjacency_not.astype(float)\n",
    "\n",
    "negatives_outside = masked_minimum(pdist_matrix_tile, mask).reshape([batch_size, batch_size]).T\n",
    "negatives_inside = np.tile(masked_maximum(pdist_matrix, adjacency_not), [1, batch_size])\n",
    "\n",
    "semi_hard_negatives = np.where(mask_final, negatives_outside, negatives_inside)\n",
    "\n",
    "loss_mat = np.add(margin, pdist_matrix - semi_hard_negatives)\n",
    "\n",
    "mask_positives = adjacency.astype(float) - np.diag(np.ones([batch_size]))\n",
    "\n",
    "num_positives = np.sum(mask_positives)"
   ]
  },
  {
   "cell_type": "code",
   "execution_count": 122,
   "metadata": {},
   "outputs": [
    {
     "data": {
      "text/plain": [
       "4.0"
      ]
     },
     "execution_count": 122,
     "metadata": {},
     "output_type": "execute_result"
    }
   ],
   "source": [
    "num_positives"
   ]
  },
  {
   "cell_type": "code",
   "execution_count": 123,
   "metadata": {},
   "outputs": [
    {
     "data": {
      "text/plain": [
       "array([[-4.45324973, -1.09585791, -5.90030585,  0.5       ],\n",
       "       [-0.82409353, -1.64380941, -2.03767593,  0.5       ],\n",
       "       [ 0.5       , -2.30944032, -1.64380941, -2.28658223],\n",
       "       [ 0.5       , -6.17207023, -2.01481784, -4.18148534]])"
      ]
     },
     "execution_count": 123,
     "metadata": {},
     "output_type": "execute_result"
    }
   ],
   "source": [
    "loss_mat"
   ]
  },
  {
   "cell_type": "code",
   "execution_count": 124,
   "metadata": {},
   "outputs": [
    {
     "data": {
      "text/plain": [
       "array([[  0.        ,   3.35739181,   4.95324973,  11.35355557],\n",
       "       [  3.35739181,   0.        ,   2.14380941,   4.68148534],\n",
       "       [  4.95324973,   2.14380941,   0.        ,   2.1666675 ],\n",
       "       [ 11.35355557,   4.68148534,   2.1666675 ,   0.        ]])"
      ]
     },
     "execution_count": 124,
     "metadata": {},
     "output_type": "execute_result"
    }
   ],
   "source": [
    "pdist_matrix"
   ]
  },
  {
   "cell_type": "code",
   "execution_count": 125,
   "metadata": {},
   "outputs": [
    {
     "data": {
      "text/plain": [
       "array([[  4.95324973,   4.95324973,  11.35355557,  11.35355557],\n",
       "       [  4.68148534,   2.14380941,   4.68148534,   4.68148534],\n",
       "       [  4.95324973,   4.95324973,   2.14380941,   4.95324973],\n",
       "       [ 11.35355557,  11.35355557,   4.68148534,   4.68148534]])"
      ]
     },
     "execution_count": 125,
     "metadata": {},
     "output_type": "execute_result"
    }
   ],
   "source": [
    "semi_hard_negatives"
   ]
  },
  {
   "cell_type": "markdown",
   "metadata": {},
   "source": [
    "### custom"
   ]
  },
  {
   "cell_type": "code",
   "execution_count": null,
   "metadata": {},
   "outputs": [],
   "source": [
    "def _pairwise_distances(logits):\n",
    "    dot_product = np.dot(logits, logits.T)\n",
    "    square_norm = np.diagonal(dot_product)\n",
    "    \n",
    "    distances = np.add(\n",
    "        np.expand_dims(square_norm, 0),\n",
    "        np.expand_dims(square_norm, 1)\n",
    "    ) - 2. * dot_product\n",
    "    distances = np.maximum(distances, 0.)\n",
    "    \n",
    "    return distances\n",
    "\n",
    "def _get_anchor_positive_triplet_mask(labels):\n",
    "    indices_equal = np.eye(labels.shape[0]).astype(bool)\n",
    "    indices_not_equal = np.logical_not(indices_equal)\n",
    "    labels_equal = np.equal(labels, labels.T)\n",
    "    \n",
    "    return np.logical_and(labels_equal, indices_not_equal)\n",
    "\n",
    "def _get_anchor_negative_triplet_mask(labels):\n",
    "    return np.logical_not(\n",
    "        np.equal(labels, labels.T)\n",
    "    )\n",
    "\n",
    "def _get_triplet_mask(labels):\n",
    "    indices_equal = np.eye(labels.shape[0]).astype(bool)\n",
    "    indices_not_equal = np.logical_not(indices_equal)\n",
    "    \n",
    "    i_not_equal_j = np.expand_dims(indices_not_equal, 2)\n",
    "    i_not_equal_k = np.expand_dims(indices_not_equal, 1)\n",
    "    j_not_equal_k = np.expand_dims(indices_not_equal, 0)\n",
    "    distinct_indices = np.logical_and(np.logical_and(i_not_equal_j, i_not_equal_k), j_not_equal_k)\n",
    "    \n",
    "    labels_equal = np.equal(labels, labels.T)\n",
    "    i_equal_j = np.expand_dims(labels_equal, 2)\n",
    "    i_equal_k = np.expand_dims(labels_equal, 1)\n",
    "    valid_labels = np.logical_and(i_equal_j, np.logical_not(i_equal_k))\n",
    "    \n",
    "    return np.logical_and(distinct_indices, valid_labels)"
   ]
  },
  {
   "cell_type": "code",
   "execution_count": null,
   "metadata": {},
   "outputs": [],
   "source": [
    "def batch_hard_triplet_loss(logits_norm, labels):\n",
    "    pairwise_dist = _pairwise_distances(logits_norm)\n",
    "\n",
    "    mask_anchor_positive = _get_anchor_positive_triplet_mask(labels).astype(float)\n",
    "\n",
    "    anchor_positive_dist = np.multiply(mask_anchor_positive, pairwise_dist)\n",
    "\n",
    "    hardest_positive_dist = np.max(anchor_positive_dist, axis=1, keepdims=True)\n",
    "\n",
    "    mask_anchor_negative = _get_anchor_negative_triplet_mask(labels).astype(float)\n",
    "\n",
    "    max_anchor_negative_dist = np.max(pairwise_dist, axis=1, keepdims=True)\n",
    "    anchor_negative_dist = pairwise_dist + max_anchor_negative_dist * (1. - mask_anchor_negative)\n",
    "\n",
    "    hardest_negative_dist = np.min(anchor_negative_dist, axis=1, keepdims=True)\n",
    "    \n",
    "    return hardest_positive_dist, hardest_negative_dist"
   ]
  },
  {
   "cell_type": "code",
   "execution_count": null,
   "metadata": {},
   "outputs": [],
   "source": [
    "batch_hard_triplet_loss(logits_norm, labels)"
   ]
  },
  {
   "cell_type": "code",
   "execution_count": null,
   "metadata": {},
   "outputs": [],
   "source": [
    "def batch_all_triplet_loss(logits_norm, labels, margin=0.5):\n",
    "    pairwise_dist = _pairwise_distances(logits_norm)\n",
    "    \n",
    "    anchor_positive_dist = np.expand_dims(pairwise_dist, 2)\n",
    "    anchor_negative_dist = np.expand_dims(pairwise_dist, 1)\n",
    "    \n",
    "    triplet_loss = anchor_positive_dist - anchor_negative_dist + margin\n",
    "    \n",
    "    mask = _get_triplet_mask(labels).astype(float)\n",
    "    \n",
    "    return triplet_loss"
   ]
  },
  {
   "cell_type": "code",
   "execution_count": null,
   "metadata": {},
   "outputs": [],
   "source": [
    "batch_all_triplet_loss(logits_norm, labels)"
   ]
  }
 ],
 "metadata": {
  "kernelspec": {
   "display_name": "Python 3",
   "language": "python",
   "name": "python3"
  },
  "language_info": {
   "codemirror_mode": {
    "name": "ipython",
    "version": 3
   },
   "file_extension": ".py",
   "mimetype": "text/x-python",
   "name": "python",
   "nbconvert_exporter": "python",
   "pygments_lexer": "ipython3",
   "version": "3.6.8"
  }
 },
 "nbformat": 4,
 "nbformat_minor": 2
}
